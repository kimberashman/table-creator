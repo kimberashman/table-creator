{
 "cells": [
  {
   "cell_type": "code",
   "execution_count": 1,
   "metadata": {},
   "outputs": [],
   "source": [
    "import pandas as pd"
   ]
  },
  {
   "cell_type": "code",
   "execution_count": 2,
   "metadata": {},
   "outputs": [],
   "source": [
    "#load csv \n",
    "df = pd.read_csv(\"example.csv\")"
   ]
  },
  {
   "cell_type": "code",
   "execution_count": 111,
   "metadata": {},
   "outputs": [],
   "source": [
    "create_table(df)"
   ]
  },
  {
   "cell_type": "code",
   "execution_count": 110,
   "metadata": {},
   "outputs": [],
   "source": [
    "def create_table(table_csv): \n",
    "    \"\"\"\n",
    "    Creates basic LaTeX table \n",
    "    table_csv -- the csv dataframe to convert \n",
    "    \"\"\"\n",
    "    rows, cols = table_csv.shape \n",
    "    width = round(1/cols,2) \n",
    "    linewidth = \"|p{\"+ str(width)+\"\\linewidth}\"\n",
    "    column_names = str(df.columns[0])\n",
    "    for i in range(1,len(df.columns)):\n",
    "        column_names = column_names + \"&\"+ str(df.columns[i]) \n",
    "\n",
    "    rows = df.to_string(header=False,\n",
    "                      index=False,\n",
    "                      index_names=False).split('\\n')\n",
    "    vals = [' & '.join(row.split()) for row in rows]\n",
    "    vals_string = \"\"\n",
    "    for line in vals:\n",
    "        vals_string = vals_string + str(line) + \" \\\\\\\\\" + \"\\n\\hline\\n\"\n",
    "\n",
    "    table_latex = (\"\\\\begin{table}[htbp]\"\n",
    "                   \"\\n\\\\caption{Example Caption}\\label{tab1}\"\n",
    "                   \"\\n\\\\resizebox{\\columnwidth}{!}{\\\\begin{tabular}{\"+\n",
    "                   linewidth*cols+\n",
    "                   \"|}\\n\\\\hline\\n\"+ \n",
    "                    column_names+\"\\\\\\\\\\n\\hline\\n\"+ vals_string + \n",
    "                    \"\\\\end{tabular}}\\n\\\\end{table}\")\n",
    "    \n",
    "    text_file = open(\"table.txt\", \"w\")\n",
    "    n = text_file.write(table_latex)\n",
    "    text_file.close()\n",
    "    "
   ]
  }
 ],
 "metadata": {
  "kernelspec": {
   "display_name": "Python [conda env:anaconda3]",
   "language": "python",
   "name": "conda-env-anaconda3-py"
  },
  "language_info": {
   "codemirror_mode": {
    "name": "ipython",
    "version": 3
   },
   "file_extension": ".py",
   "mimetype": "text/x-python",
   "name": "python",
   "nbconvert_exporter": "python",
   "pygments_lexer": "ipython3",
   "version": "3.6.8"
  }
 },
 "nbformat": 4,
 "nbformat_minor": 4
}
